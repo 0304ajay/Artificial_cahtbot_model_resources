{
 "cells": [
  {
   "cell_type": "code",
   "execution_count": 1,
   "metadata": {},
   "outputs": [],
   "source": [
    "import numpy as np # linear algebra\n",
    "import pandas as pd # data processing, CSV file I/O (e.g. pd.read_csv)\n",
    "import os\n",
    "import cv2"
   ]
  },
  {
   "cell_type": "code",
   "execution_count": 3,
   "metadata": {},
   "outputs": [
    {
     "data": {
      "text/plain": [
       "['Closed', 'no_yawn', 'Open', 'yawn']"
      ]
     },
     "execution_count": 3,
     "metadata": {},
     "output_type": "execute_result"
    }
   ],
   "source": [
    "labels = os.listdir(\"C:/Users/Ajay/Downloads/Drowsy Driver Data/Drowsy_Driver/train\")\n",
    "labels"
   ]
  },
  {
   "cell_type": "code",
   "execution_count": 4,
   "metadata": {},
   "outputs": [],
   "source": [
    "def face_for_yawn(direc=\"C:/Users/Ajay/Downloads/Drowsy Driver Data/Drowsy_Driver/train\", face_cas_path=\"C:/Users/Ajay/Downloads/Drowsy Driver Data/Drowsy_Driver/haarcascade_frontalcatface.xml\"):\n",
    "    yaw_no = []\n",
    "    IMG_SIZE = 145\n",
    "    categories = [\"yawn\", \"no_yawn\"]\n",
    "    for category in categories:\n",
    "        path_link = os.path.join(direc, category)\n",
    "        class_num1 = categories.index(category)\n",
    "        print(class_num1)\n",
    "        for image in os.listdir(path_link):\n",
    "            image_array = cv2.imread(os.path.join(path_link, image), cv2.IMREAD_COLOR)\n",
    "            face_cascade = cv2.CascadeClassifier(face_cas_path)\n",
    "            faces = face_cascade.detectMultiScale(image_array, 1.3, 5)\n",
    "            for (x, y, w, h) in faces:\n",
    "                img = cv2.rectangle(image_array, (x, y), (x+w, y+h), (0, 255, 0), 2)\n",
    "                roi_color = img[y:y+h, x:x+w]\n",
    "                resized_array = cv2.resize(roi_color, (IMG_SIZE, IMG_SIZE))\n",
    "                yaw_no.append([resized_array, class_num1])\n",
    "    return yaw_no"
   ]
  },
  {
   "cell_type": "code",
   "execution_count": 5,
   "metadata": {},
   "outputs": [
    {
     "name": "stdout",
     "output_type": "stream",
     "text": [
      "0\n",
      "1\n",
      "3\n"
     ]
    }
   ],
   "source": [
    "yawn_no_yawn = face_for_yawn()\n",
    "print(len(yawn_no_yawn))"
   ]
  },
  {
   "cell_type": "code",
   "execution_count": 7,
   "metadata": {},
   "outputs": [],
   "source": [
    "def get_data(dir_path=\"C:/Users/Ajay/Downloads/Drowsy Driver Data/Drowsy_Driver/train\"):\n",
    "    labels = ['Closed', 'Open']\n",
    "    IMG_SIZE = 145\n",
    "    data = []\n",
    "    for label in labels:\n",
    "        path = os.path.join(dir_path, label)\n",
    "        class_num = labels.index(label)\n",
    "        class_num +=2\n",
    "        print(class_num)\n",
    "        for img in os.listdir(path):\n",
    "            try:\n",
    "                img_array = cv2.imread(os.path.join(path, img), cv2.IMREAD_COLOR)\n",
    "                resized_array = cv2.resize(img_array, (IMG_SIZE, IMG_SIZE))\n",
    "                data.append([resized_array, class_num])\n",
    "            except Exception as e:\n",
    "                print(e)\n",
    "    return data"
   ]
  },
  {
   "cell_type": "code",
   "execution_count": 8,
   "metadata": {},
   "outputs": [
    {
     "name": "stdout",
     "output_type": "stream",
     "text": [
      "2\n",
      "3\n",
      "1452\n"
     ]
    }
   ],
   "source": [
    "data_train = get_data()\n",
    "print(len(data_train))"
   ]
  },
  {
   "cell_type": "code",
   "execution_count": 9,
   "metadata": {},
   "outputs": [],
   "source": [
    "def append_data():\n",
    "#     total_data = []\n",
    "    yaw_no = face_for_yawn()\n",
    "    print(len(yaw_no))\n",
    "    data = get_data()\n",
    "    print(len(data))\n",
    "    yaw_no.extend(data)\n",
    "    return np.array(yaw_no)"
   ]
  },
  {
   "cell_type": "code",
   "execution_count": 10,
   "metadata": {},
   "outputs": [
    {
     "name": "stdout",
     "output_type": "stream",
     "text": [
      "0\n",
      "1\n",
      "3\n",
      "2\n",
      "3\n",
      "1452\n"
     ]
    },
    {
     "ename": "ValueError",
     "evalue": "setting an array element with a sequence. The requested array has an inhomogeneous shape after 2 dimensions. The detected shape was (1455, 2) + inhomogeneous part.",
     "output_type": "error",
     "traceback": [
      "\u001b[1;31m---------------------------------------------------------------------------\u001b[0m",
      "\u001b[1;31mValueError\u001b[0m                                Traceback (most recent call last)",
      "Cell \u001b[1;32mIn[10], line 1\u001b[0m\n\u001b[1;32m----> 1\u001b[0m new_data \u001b[38;5;241m=\u001b[39m \u001b[43mappend_data\u001b[49m\u001b[43m(\u001b[49m\u001b[43m)\u001b[49m\n",
      "Cell \u001b[1;32mIn[9], line 8\u001b[0m, in \u001b[0;36mappend_data\u001b[1;34m()\u001b[0m\n\u001b[0;32m      6\u001b[0m \u001b[38;5;28mprint\u001b[39m(\u001b[38;5;28mlen\u001b[39m(data))\n\u001b[0;32m      7\u001b[0m yaw_no\u001b[38;5;241m.\u001b[39mextend(data)\n\u001b[1;32m----> 8\u001b[0m \u001b[38;5;28;01mreturn\u001b[39;00m \u001b[43mnp\u001b[49m\u001b[38;5;241;43m.\u001b[39;49m\u001b[43marray\u001b[49m\u001b[43m(\u001b[49m\u001b[43myaw_no\u001b[49m\u001b[43m)\u001b[49m\n",
      "\u001b[1;31mValueError\u001b[0m: setting an array element with a sequence. The requested array has an inhomogeneous shape after 2 dimensions. The detected shape was (1455, 2) + inhomogeneous part."
     ]
    }
   ],
   "source": [
    "new_data = append_data()"
   ]
  }
 ],
 "metadata": {
  "kernelspec": {
   "display_name": "base",
   "language": "python",
   "name": "python3"
  },
  "language_info": {
   "codemirror_mode": {
    "name": "ipython",
    "version": 3
   },
   "file_extension": ".py",
   "mimetype": "text/x-python",
   "name": "python",
   "nbconvert_exporter": "python",
   "pygments_lexer": "ipython3",
   "version": "3.12.2"
  }
 },
 "nbformat": 4,
 "nbformat_minor": 2
}
